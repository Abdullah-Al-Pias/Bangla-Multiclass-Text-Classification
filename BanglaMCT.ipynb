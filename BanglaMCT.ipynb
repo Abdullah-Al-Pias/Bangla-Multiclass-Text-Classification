{
  "nbformat": 4,
  "nbformat_minor": 0,
  "metadata": {
    "colab": {
      "name": "BanglaMCT.ipynb",
      "provenance": [],
      "mount_file_id": "1o-knkqfb-hZVvqyrFnEx9SN2g-euZMRO",
      "authorship_tag": "ABX9TyNBQ/gNBCbaZ6juywOT3av7",
      "include_colab_link": true
    },
    "kernelspec": {
      "name": "python3",
      "display_name": "Python 3"
    },
    "language_info": {
      "name": "python"
    }
  },
  "cells": [
    {
      "cell_type": "markdown",
      "metadata": {
        "id": "view-in-github",
        "colab_type": "text"
      },
      "source": [
        "<a href=\"https://colab.research.google.com/github/Abdullah-Al-Pias/Bangla-Multiclass-Text-Classification/blob/main/BanglaMCT.ipynb\" target=\"_parent\"><img src=\"https://colab.research.google.com/assets/colab-badge.svg\" alt=\"Open In Colab\"/></a>"
      ]
    },
    {
      "cell_type": "code",
      "metadata": {
        "id": "hPzIi--aLcgm"
      },
      "source": [
        "# Import pandas\n",
        "import pandas as pd\n",
        "\n",
        "# reading csv file\n",
        "train = pd.read_csv(\"/content/drive/MyDrive/BJIT/BanglaMCT7/train.csv\")\n",
        "test = pd.read_csv(\"/content/drive/MyDrive/BJIT/BanglaMCT7/test.csv\")"
      ],
      "execution_count": 5,
      "outputs": []
    },
    {
      "cell_type": "markdown",
      "metadata": {
        "id": "DcRihxYM1AmS"
      },
      "source": [
        "Import Libraries\n"
      ]
    },
    {
      "cell_type": "code",
      "metadata": {
        "id": "FdI5BLr6OIzr"
      },
      "source": [
        "import numpy as np\n",
        "import pandas as pd\n",
        "from plotly.offline import iplot\n",
        "import matplotlib.pyplot as plt\n",
        "import seaborn as sns\n",
        "from tensorflow.keras.preprocessing.text import Tokenizer\n",
        "from tensorflow.keras.preprocessing.sequence import pad_sequences\n",
        "from tensorflow.keras.models import Sequential\n",
        "from tensorflow.keras.layers import Dense, Embedding, LSTM, SpatialDropout1D\n",
        "from sklearn.model_selection import train_test_split\n",
        "from keras.utils.np_utils import to_categorical\n",
        "from tensorflow.keras.callbacks import EarlyStopping\n",
        "from tensorflow.keras.layers import Dropout\n",
        "import re\n",
        "\n",
        "from nltk import word_tokenize\n"
      ],
      "execution_count": 13,
      "outputs": []
    },
    {
      "cell_type": "markdown",
      "metadata": {
        "id": "C8d501I81FaD"
      },
      "source": [
        "Show Train Data"
      ]
    },
    {
      "cell_type": "code",
      "metadata": {
        "colab": {
          "base_uri": "https://localhost:8080/",
          "height": 204
        },
        "id": "H3qIt_OhLiVM",
        "outputId": "77eb5e98-697e-4bae-b451-0af1824cc736"
      },
      "source": [
        "train.head()"
      ],
      "execution_count": 4,
      "outputs": [
        {
          "output_type": "execute_result",
          "data": {
            "text/html": [
              "<div>\n",
              "<style scoped>\n",
              "    .dataframe tbody tr th:only-of-type {\n",
              "        vertical-align: middle;\n",
              "    }\n",
              "\n",
              "    .dataframe tbody tr th {\n",
              "        vertical-align: top;\n",
              "    }\n",
              "\n",
              "    .dataframe thead th {\n",
              "        text-align: right;\n",
              "    }\n",
              "</style>\n",
              "<table border=\"1\" class=\"dataframe\">\n",
              "  <thead>\n",
              "    <tr style=\"text-align: right;\">\n",
              "      <th></th>\n",
              "      <th>category</th>\n",
              "      <th>text</th>\n",
              "      <th>cleanText</th>\n",
              "    </tr>\n",
              "  </thead>\n",
              "  <tbody>\n",
              "    <tr>\n",
              "      <th>0</th>\n",
              "      <td>economy</td>\n",
              "      <td>বাংলাদেশে সফররত বিশ্ব বাণিজ্য সংস্থা (ডব্লিউট...</td>\n",
              "      <td>বাংলাদেশে    সফররত    বিশ্ব    বাণিজ্য    সং...</td>\n",
              "    </tr>\n",
              "    <tr>\n",
              "      <th>1</th>\n",
              "      <td>sports</td>\n",
              "      <td>ইউরোপিয়ান ফুটবলে আজ ঝড় বয়ে যাচ্ছে। একদিকে সংবা...</td>\n",
              "      <td>ইউরোপিয়ান    ফুটবলে    বয়ে    একদিকে    সংবা...</td>\n",
              "    </tr>\n",
              "    <tr>\n",
              "      <th>2</th>\n",
              "      <td>international</td>\n",
              "      <td>বিজেপির নেতৃত্বে ভারতের উত্তর প্রদেশ থেকে শুরু...</td>\n",
              "      <td>বিজেপির    নেতৃত্বে    ভারতের    উত্তর    প্...</td>\n",
              "    </tr>\n",
              "    <tr>\n",
              "      <th>3</th>\n",
              "      <td>state</td>\n",
              "      <td>নারায়ণগঞ্জের সোনারগাঁ উপজেলার একটি সরকারি প্র...</td>\n",
              "      <td>নারায়ণগঞ্জের    সোনারগাঁ    উপজেলার    সরকা...</td>\n",
              "    </tr>\n",
              "    <tr>\n",
              "      <th>4</th>\n",
              "      <td>sports</td>\n",
              "      <td>‘ছাই থেকে ছাই, ধুলো থেকে ধুলো...’ আধ্যাত্মিক ক...</td>\n",
              "      <td>ছাই    ছাই    ধুলো    ধুলো    আধ্যাত্মিক    ...</td>\n",
              "    </tr>\n",
              "  </tbody>\n",
              "</table>\n",
              "</div>"
            ],
            "text/plain": [
              "        category  ...                                          cleanText\n",
              "0        economy  ...    বাংলাদেশে    সফররত    বিশ্ব    বাণিজ্য    সং...\n",
              "1         sports  ...    ইউরোপিয়ান    ফুটবলে    বয়ে    একদিকে    সংবা...\n",
              "2  international  ...    বিজেপির    নেতৃত্বে    ভারতের    উত্তর    প্...\n",
              "3          state  ...    নারায়ণগঞ্জের    সোনারগাঁ    উপজেলার    সরকা...\n",
              "4         sports  ...    ছাই    ছাই    ধুলো    ধুলো    আধ্যাত্মিক    ...\n",
              "\n",
              "[5 rows x 3 columns]"
            ]
          },
          "metadata": {},
          "execution_count": 4
        }
      ]
    },
    {
      "cell_type": "markdown",
      "metadata": {
        "id": "3fmDKcHH1LRi"
      },
      "source": [
        "Show Test Data"
      ]
    },
    {
      "cell_type": "code",
      "metadata": {
        "colab": {
          "base_uri": "https://localhost:8080/",
          "height": 204
        },
        "id": "sE9IhwdlMYtU",
        "outputId": "32d9e5a3-c02f-4519-a6f0-c603054bf225"
      },
      "source": [
        "test.head()"
      ],
      "execution_count": 6,
      "outputs": [
        {
          "output_type": "execute_result",
          "data": {
            "text/html": [
              "<div>\n",
              "<style scoped>\n",
              "    .dataframe tbody tr th:only-of-type {\n",
              "        vertical-align: middle;\n",
              "    }\n",
              "\n",
              "    .dataframe tbody tr th {\n",
              "        vertical-align: top;\n",
              "    }\n",
              "\n",
              "    .dataframe thead th {\n",
              "        text-align: right;\n",
              "    }\n",
              "</style>\n",
              "<table border=\"1\" class=\"dataframe\">\n",
              "  <thead>\n",
              "    <tr style=\"text-align: right;\">\n",
              "      <th></th>\n",
              "      <th>category</th>\n",
              "      <th>text</th>\n",
              "      <th>cleanText</th>\n",
              "    </tr>\n",
              "  </thead>\n",
              "  <tbody>\n",
              "    <tr>\n",
              "      <th>0</th>\n",
              "      <td>education</td>\n",
              "      <td>অধ্যায়-২প্রিয় পরীক্ষার্থী, আজ তথ্য ও যোগাযোগ প...</td>\n",
              "      <td>অধ্যায়    প্রিয়    পরীক্ষার্থী    তথ্য    যো...</td>\n",
              "    </tr>\n",
              "    <tr>\n",
              "      <th>1</th>\n",
              "      <td>sports</td>\n",
              "      <td>স্পিন, স্পিন, স্পিন। লর্ডসে ইয়াসির শাহ্‌র লেগ ...</td>\n",
              "      <td>স্পিন    স্পিন    স্পিন    লর্ডসে    ইয়াসির ...</td>\n",
              "    </tr>\n",
              "    <tr>\n",
              "      <th>2</th>\n",
              "      <td>international</td>\n",
              "      <td>সিরিয়ার উত্তর-পশ্চিমাঞ্চলে গতকাল রোববার বিমান...</td>\n",
              "      <td>সিরিয়ার    উত্তর    পশ্চিমাঞ্চলে    গতকাল  ...</td>\n",
              "    </tr>\n",
              "    <tr>\n",
              "      <th>3</th>\n",
              "      <td>international</td>\n",
              "      <td>দক্ষিণ আফ্রিকার কেপটাউন বিশ্ববিদ্যালয়ের (ইউসিট...</td>\n",
              "      <td>দক্ষিণ    আফ্রিকার    কেপটাউন    বিশ্ববিদ্যা...</td>\n",
              "    </tr>\n",
              "    <tr>\n",
              "      <th>4</th>\n",
              "      <td>technology</td>\n",
              "      <td>সহজে ডিজিটাল আর্থিক সেবা দিতে অ্যাপ ও ডিজিটাল ...</td>\n",
              "      <td>সহজে    ডিজিটাল    আর্থিক    সেবা    অ্যাপ  ...</td>\n",
              "    </tr>\n",
              "  </tbody>\n",
              "</table>\n",
              "</div>"
            ],
            "text/plain": [
              "        category  ...                                          cleanText\n",
              "0      education  ...    অধ্যায়    প্রিয়    পরীক্ষার্থী    তথ্য    যো...\n",
              "1         sports  ...    স্পিন    স্পিন    স্পিন    লর্ডসে    ইয়াসির ...\n",
              "2  international  ...    সিরিয়ার    উত্তর    পশ্চিমাঞ্চলে    গতকাল  ...\n",
              "3  international  ...    দক্ষিণ    আফ্রিকার    কেপটাউন    বিশ্ববিদ্যা...\n",
              "4     technology  ...    সহজে    ডিজিটাল    আর্থিক    সেবা    অ্যাপ  ...\n",
              "\n",
              "[5 rows x 3 columns]"
            ]
          },
          "metadata": {},
          "execution_count": 6
        }
      ]
    },
    {
      "cell_type": "markdown",
      "metadata": {
        "id": "Cly6IOMK1RxT"
      },
      "source": [
        "Drop the raw text data from the training set"
      ]
    },
    {
      "cell_type": "code",
      "metadata": {
        "colab": {
          "base_uri": "https://localhost:8080/",
          "height": 204
        },
        "id": "cwiEyL9cMhpT",
        "outputId": "ccfe49cc-e3c4-4049-9bd3-9e4bde7170ce"
      },
      "source": [
        "train = train.drop('text', axis=1)\n",
        "train.head()"
      ],
      "execution_count": 7,
      "outputs": [
        {
          "output_type": "execute_result",
          "data": {
            "text/html": [
              "<div>\n",
              "<style scoped>\n",
              "    .dataframe tbody tr th:only-of-type {\n",
              "        vertical-align: middle;\n",
              "    }\n",
              "\n",
              "    .dataframe tbody tr th {\n",
              "        vertical-align: top;\n",
              "    }\n",
              "\n",
              "    .dataframe thead th {\n",
              "        text-align: right;\n",
              "    }\n",
              "</style>\n",
              "<table border=\"1\" class=\"dataframe\">\n",
              "  <thead>\n",
              "    <tr style=\"text-align: right;\">\n",
              "      <th></th>\n",
              "      <th>category</th>\n",
              "      <th>cleanText</th>\n",
              "    </tr>\n",
              "  </thead>\n",
              "  <tbody>\n",
              "    <tr>\n",
              "      <th>0</th>\n",
              "      <td>economy</td>\n",
              "      <td>বাংলাদেশে    সফররত    বিশ্ব    বাণিজ্য    সং...</td>\n",
              "    </tr>\n",
              "    <tr>\n",
              "      <th>1</th>\n",
              "      <td>sports</td>\n",
              "      <td>ইউরোপিয়ান    ফুটবলে    বয়ে    একদিকে    সংবা...</td>\n",
              "    </tr>\n",
              "    <tr>\n",
              "      <th>2</th>\n",
              "      <td>international</td>\n",
              "      <td>বিজেপির    নেতৃত্বে    ভারতের    উত্তর    প্...</td>\n",
              "    </tr>\n",
              "    <tr>\n",
              "      <th>3</th>\n",
              "      <td>state</td>\n",
              "      <td>নারায়ণগঞ্জের    সোনারগাঁ    উপজেলার    সরকা...</td>\n",
              "    </tr>\n",
              "    <tr>\n",
              "      <th>4</th>\n",
              "      <td>sports</td>\n",
              "      <td>ছাই    ছাই    ধুলো    ধুলো    আধ্যাত্মিক    ...</td>\n",
              "    </tr>\n",
              "  </tbody>\n",
              "</table>\n",
              "</div>"
            ],
            "text/plain": [
              "        category                                          cleanText\n",
              "0        economy    বাংলাদেশে    সফররত    বিশ্ব    বাণিজ্য    সং...\n",
              "1         sports    ইউরোপিয়ান    ফুটবলে    বয়ে    একদিকে    সংবা...\n",
              "2  international    বিজেপির    নেতৃত্বে    ভারতের    উত্তর    প্...\n",
              "3          state    নারায়ণগঞ্জের    সোনারগাঁ    উপজেলার    সরকা...\n",
              "4         sports    ছাই    ছাই    ধুলো    ধুলো    আধ্যাত্মিক    ..."
            ]
          },
          "metadata": {},
          "execution_count": 7
        }
      ]
    },
    {
      "cell_type": "markdown",
      "metadata": {
        "id": "VJaX_S6-1eSO"
      },
      "source": [
        "Drop the raw text data from the test set"
      ]
    },
    {
      "cell_type": "code",
      "metadata": {
        "colab": {
          "base_uri": "https://localhost:8080/",
          "height": 204
        },
        "id": "94UI8KV5Mykr",
        "outputId": "eba334f5-f916-46e9-c235-fd7a3bfcc7eb"
      },
      "source": [
        "test = test.drop('text', axis=1)\n",
        "test.head()"
      ],
      "execution_count": 8,
      "outputs": [
        {
          "output_type": "execute_result",
          "data": {
            "text/html": [
              "<div>\n",
              "<style scoped>\n",
              "    .dataframe tbody tr th:only-of-type {\n",
              "        vertical-align: middle;\n",
              "    }\n",
              "\n",
              "    .dataframe tbody tr th {\n",
              "        vertical-align: top;\n",
              "    }\n",
              "\n",
              "    .dataframe thead th {\n",
              "        text-align: right;\n",
              "    }\n",
              "</style>\n",
              "<table border=\"1\" class=\"dataframe\">\n",
              "  <thead>\n",
              "    <tr style=\"text-align: right;\">\n",
              "      <th></th>\n",
              "      <th>category</th>\n",
              "      <th>cleanText</th>\n",
              "    </tr>\n",
              "  </thead>\n",
              "  <tbody>\n",
              "    <tr>\n",
              "      <th>0</th>\n",
              "      <td>education</td>\n",
              "      <td>অধ্যায়    প্রিয়    পরীক্ষার্থী    তথ্য    যো...</td>\n",
              "    </tr>\n",
              "    <tr>\n",
              "      <th>1</th>\n",
              "      <td>sports</td>\n",
              "      <td>স্পিন    স্পিন    স্পিন    লর্ডসে    ইয়াসির ...</td>\n",
              "    </tr>\n",
              "    <tr>\n",
              "      <th>2</th>\n",
              "      <td>international</td>\n",
              "      <td>সিরিয়ার    উত্তর    পশ্চিমাঞ্চলে    গতকাল  ...</td>\n",
              "    </tr>\n",
              "    <tr>\n",
              "      <th>3</th>\n",
              "      <td>international</td>\n",
              "      <td>দক্ষিণ    আফ্রিকার    কেপটাউন    বিশ্ববিদ্যা...</td>\n",
              "    </tr>\n",
              "    <tr>\n",
              "      <th>4</th>\n",
              "      <td>technology</td>\n",
              "      <td>সহজে    ডিজিটাল    আর্থিক    সেবা    অ্যাপ  ...</td>\n",
              "    </tr>\n",
              "  </tbody>\n",
              "</table>\n",
              "</div>"
            ],
            "text/plain": [
              "        category                                          cleanText\n",
              "0      education    অধ্যায়    প্রিয়    পরীক্ষার্থী    তথ্য    যো...\n",
              "1         sports    স্পিন    স্পিন    স্পিন    লর্ডসে    ইয়াসির ...\n",
              "2  international    সিরিয়ার    উত্তর    পশ্চিমাঞ্চলে    গতকাল  ...\n",
              "3  international    দক্ষিণ    আফ্রিকার    কেপটাউন    বিশ্ববিদ্যা...\n",
              "4     technology    সহজে    ডিজিটাল    আর্থিক    সেবা    অ্যাপ  ..."
            ]
          },
          "metadata": {},
          "execution_count": 8
        }
      ]
    },
    {
      "cell_type": "markdown",
      "metadata": {
        "id": "ToxZAeO61l6F"
      },
      "source": [
        "Drop null values from training and test set"
      ]
    },
    {
      "cell_type": "code",
      "metadata": {
        "colab": {
          "base_uri": "https://localhost:8080/"
        },
        "id": "D2s8oDnwM4x6",
        "outputId": "55361838-ce99-463b-8a11-588b4b8af862"
      },
      "source": [
        "train = train.dropna()\n",
        "test = test.dropna()\n",
        "\n",
        "train = train.reset_index(drop=True)\n",
        "test = test.reset_index(drop=True)\n",
        "\n",
        "X_train = train['cleanText']\n",
        "y_train = train['category']\n",
        "\n",
        "X_test = test['cleanText']\n",
        "y_test = test['category']\n",
        "\n",
        "X_test.head()"
      ],
      "execution_count": 38,
      "outputs": [
        {
          "output_type": "execute_result",
          "data": {
            "text/plain": [
              "0      অধ্যায়    প্রিয়    পরীক্ষার্থী    তথ্য    যো...\n",
              "1      স্পিন    স্পিন    স্পিন    লর্ডসে    ইয়াসির ...\n",
              "2      সিরিয়ার    উত্তর    পশ্চিমাঞ্চলে    গতকাল  ...\n",
              "3      দক্ষিণ    আফ্রিকার    কেপটাউন    বিশ্ববিদ্যা...\n",
              "4      সহজে    ডিজিটাল    আর্থিক    সেবা    অ্যাপ  ...\n",
              "Name: cleanText, dtype: object"
            ]
          },
          "metadata": {},
          "execution_count": 38
        }
      ]
    },
    {
      "cell_type": "markdown",
      "metadata": {
        "id": "MvBiQLOe1una"
      },
      "source": [
        "Define function to show the independent and dependent columns"
      ]
    },
    {
      "cell_type": "code",
      "metadata": {
        "id": "GUc_Md0_OCab"
      },
      "source": [
        "def example_fn(index):\n",
        "    example = train[train.index == index][['category', 'cleanText']].values[0]\n",
        "    if len(example) > 0:\n",
        "        print(example[1])\n",
        "        print()\n",
        "        print('Category:', example[0])"
      ],
      "execution_count": 39,
      "outputs": []
    },
    {
      "cell_type": "code",
      "metadata": {
        "colab": {
          "base_uri": "https://localhost:8080/"
        },
        "id": "MpUHa3T4RCR0",
        "outputId": "029cab62-2071-4e53-c5cf-cabff32aef54"
      },
      "source": [
        "example_fn(10)"
      ],
      "execution_count": 40,
      "outputs": [
        {
          "output_type": "stream",
          "name": "stdout",
          "text": [
            "  শফিক    তুহিনের    সুর    সংগীত    পরিচালনায়    চলচ্চিত্রের    গানে    কণ্ঠ    তাঁরই    ভাই    জাহাঙ্গীর    গতকাল    শুক্রবার    রাজধানীর    মোহাম্মদপুরের    স্টুডিওতে    গানটির    রেকর্ডিং    জাকির    হোসেন    রাজু    পরিচালিত    ছবিটির    নাম    মনের    পাইলাম    শফিক    তুহিন    গানের    ভাইয়া    ঢাকায়    আসেন    ভাইয়ার    কারণে    আমিও    একটা    সময়    নিজেকে    গানের    যুক্ত    ক্যারিয়ার    গড়তে    হতো    গানে    আজকে    সবকিছুই    ভাইয়ার    কারণেই    শফিক    তুহিন    ভাইয়া    সুর    সংগীত    পরিচালনায়    কাজ    একটা    এদিকে    শফিক    তুহিনের    ভাই    জাহাঙ্গীর    প্রথম    আলো    ডটকমকে    আসলে    গানের    জন্যই    ঢাকায়    আসা    আটটি    একক    গানের    অ্যালবাম    প্রকাশিত    গেয়েছি    মিশ্র    অ্যালবামে    ছোট    ভাইয়ের    সুর    সংগীত    পরিচালনায়    চলচ্চিত্রের    গানে    কণ্ঠ    দিলাম    টাইটেল    সংগীত    পুরো    বিষয়টি    বেশি    আনন্দের    পাশাপাশি    বেশি    আবেগও    কাজ    গানটিতে    কণ্ঠ    গাড়িতে    উঠেই    প্রথম    মাকে    ফোন    জানালাম    মিলিয়ে    আসলেই    অন্যরকম    অনুভূতি    এবারের    সিটিসেল    চ্যানেল    সংগীত    পুরস্কারে    শফিক    তুহিন    সেরা    গীতিকারের    পুরস্কার    অর্জন    একক    গানের    অ্যালবাম    পাগলামি    তুহিন    পুরস্কার    পান  \n",
            "\n",
            "Category: entertainment\n"
          ]
        }
      ]
    },
    {
      "cell_type": "markdown",
      "metadata": {
        "id": "EMo790-m18fj"
      },
      "source": [
        "Show the unique tokens"
      ]
    },
    {
      "cell_type": "code",
      "metadata": {
        "colab": {
          "base_uri": "https://localhost:8080/"
        },
        "id": "pdX3xw4-UCWk",
        "outputId": "eb1c8351-e099-4b93-c2df-c25b30e86ad6"
      },
      "source": [
        "# The maximum number of words to be used. (most frequent)\n",
        "MAX_NB_WORDS = 50000\n",
        "# Max number of words in each text.\n",
        "MAX_SEQUENCE_LENGTH = 250\n",
        "# This is fixed.\n",
        "EMBEDDING_DIM = 100\n",
        "\n",
        "tokenizer = Tokenizer(num_words=MAX_NB_WORDS, filters='!\"#$%&()*+,-./:;<=>?@[\\]^_`{|}~', lower=True)\n",
        "tokenizer.fit_on_texts(train['cleanText'].values)\n",
        "word_index = tokenizer.word_index\n",
        "print('Found %s unique tokens.' % len(word_index))"
      ],
      "execution_count": 41,
      "outputs": [
        {
          "output_type": "stream",
          "name": "stdout",
          "text": [
            "Found 464245 unique tokens.\n"
          ]
        }
      ]
    },
    {
      "cell_type": "markdown",
      "metadata": {
        "id": "YtGpeXK22L1r"
      },
      "source": [
        "Shape of the train data"
      ]
    },
    {
      "cell_type": "code",
      "metadata": {
        "colab": {
          "base_uri": "https://localhost:8080/"
        },
        "id": "X9-k_VGhWrLO",
        "outputId": "51913bf4-eeba-47e6-c28c-d1ab1cd2288a"
      },
      "source": [
        "X_train = tokenizer.texts_to_sequences(train['cleanText'].values)\n",
        "X_train = pad_sequences(X_train, maxlen=MAX_SEQUENCE_LENGTH)\n",
        "print('Shape of train data tensor:', X_train.shape)"
      ],
      "execution_count": 50,
      "outputs": [
        {
          "output_type": "stream",
          "name": "stdout",
          "text": [
            "Shape of train data tensor: (98883, 250)\n"
          ]
        }
      ]
    },
    {
      "cell_type": "markdown",
      "metadata": {
        "id": "GCeIXLp92XPz"
      },
      "source": [
        "Shape of the train label"
      ]
    },
    {
      "cell_type": "code",
      "metadata": {
        "colab": {
          "base_uri": "https://localhost:8080/"
        },
        "id": "1-PxJIk4XCVO",
        "outputId": "5b5ade13-d52f-4bb6-e23c-60b1d61f41b1"
      },
      "source": [
        "y_train = pd.get_dummies(train['category']).values\n",
        "print('Shape of train label tensor:', y_train.shape)"
      ],
      "execution_count": 51,
      "outputs": [
        {
          "output_type": "stream",
          "name": "stdout",
          "text": [
            "Shape of train label tensor: (98883, 7)\n"
          ]
        }
      ]
    },
    {
      "cell_type": "markdown",
      "metadata": {
        "id": "SsYs8j7q2aVY"
      },
      "source": [
        "Shape of the test data"
      ]
    },
    {
      "cell_type": "code",
      "metadata": {
        "colab": {
          "base_uri": "https://localhost:8080/"
        },
        "id": "6TFkaH7yYmgh",
        "outputId": "4ea05014-fac6-4016-e482-04b1c7f5b1c1"
      },
      "source": [
        "X_test = tokenizer.texts_to_sequences(test['cleanText'].values)\n",
        "X_test = pad_sequences(X_test, maxlen=MAX_SEQUENCE_LENGTH)\n",
        "print('Shape of test data tensor:', X_test.shape)"
      ],
      "execution_count": 52,
      "outputs": [
        {
          "output_type": "stream",
          "name": "stdout",
          "text": [
            "Shape of test data tensor: (98884, 250)\n"
          ]
        }
      ]
    },
    {
      "cell_type": "markdown",
      "metadata": {
        "id": "XVcrRCIq2gPj"
      },
      "source": [
        "Shape of the test label"
      ]
    },
    {
      "cell_type": "code",
      "metadata": {
        "colab": {
          "base_uri": "https://localhost:8080/"
        },
        "id": "kvBrWTGuYtLG",
        "outputId": "a752a9ea-0bbc-4308-8ae8-c12b9b898eb1"
      },
      "source": [
        "y_test = pd.get_dummies(test['category']).values\n",
        "print('Shape of test label tensor:', y_test.shape)"
      ],
      "execution_count": 56,
      "outputs": [
        {
          "output_type": "stream",
          "name": "stdout",
          "text": [
            "Shape of test label tensor: (98884, 7)\n"
          ]
        }
      ]
    },
    {
      "cell_type": "markdown",
      "metadata": {
        "id": "Mdck5Q8S2lW-"
      },
      "source": [
        "Print the shapes"
      ]
    },
    {
      "cell_type": "code",
      "metadata": {
        "colab": {
          "base_uri": "https://localhost:8080/"
        },
        "id": "NdMAJPZxXS9-",
        "outputId": "efada93e-8bed-484f-b2e5-93b367d507c9"
      },
      "source": [
        "print(X_train.shape,y_train.shape)\n",
        "print(X_test.shape,y_test.shape)"
      ],
      "execution_count": 55,
      "outputs": [
        {
          "output_type": "stream",
          "name": "stdout",
          "text": [
            "(98883, 250) (98883, 7)\n",
            "(98884, 250) (98884, 7)\n"
          ]
        }
      ]
    },
    {
      "cell_type": "markdown",
      "metadata": {
        "id": "_ouiA4a02n8V"
      },
      "source": [
        "Model Initialization"
      ]
    },
    {
      "cell_type": "code",
      "metadata": {
        "colab": {
          "base_uri": "https://localhost:8080/"
        },
        "id": "3s6dmGUuaDGs",
        "outputId": "edcb1c6e-62c7-4392-eda2-ebb32af902ce"
      },
      "source": [
        "model = Sequential()\n",
        "model.add(Embedding(MAX_NB_WORDS, EMBEDDING_DIM, input_length=X.shape[1]))\n",
        "model.add(SpatialDropout1D(0.2))\n",
        "model.add(LSTM(100, dropout=0.2, recurrent_dropout=0.2))\n",
        "model.add(Dense(7, activation='softmax'))\n",
        "model.compile(loss='categorical_crossentropy', optimizer='adam', metrics=['accuracy'])\n",
        "print(model.summary())"
      ],
      "execution_count": 60,
      "outputs": [
        {
          "output_type": "stream",
          "name": "stdout",
          "text": [
            "Model: \"sequential_1\"\n",
            "_________________________________________________________________\n",
            "Layer (type)                 Output Shape              Param #   \n",
            "=================================================================\n",
            "embedding_1 (Embedding)      (None, 250, 100)          5000000   \n",
            "_________________________________________________________________\n",
            "spatial_dropout1d_1 (Spatial (None, 250, 100)          0         \n",
            "_________________________________________________________________\n",
            "lstm_1 (LSTM)                (None, 100)               80400     \n",
            "_________________________________________________________________\n",
            "dense_1 (Dense)              (None, 7)                 707       \n",
            "=================================================================\n",
            "Total params: 5,081,107\n",
            "Trainable params: 5,081,107\n",
            "Non-trainable params: 0\n",
            "_________________________________________________________________\n",
            "None\n"
          ]
        }
      ]
    },
    {
      "cell_type": "markdown",
      "metadata": {
        "id": "c6XcGdkx2t_b"
      },
      "source": [
        "Train the LSTM Model"
      ]
    },
    {
      "cell_type": "code",
      "metadata": {
        "colab": {
          "base_uri": "https://localhost:8080/"
        },
        "id": "0UiOPywraaQe",
        "outputId": "bccc72a4-9a58-4a35-a48b-70e3daa38565"
      },
      "source": [
        "epochs = 5\n",
        "batch_size = 64\n",
        "\n",
        "history = model.fit(X_train, y_train, epochs=epochs, batch_size=batch_size,validation_split=0.1,callbacks=[EarlyStopping(monitor='val_loss', patience=3, min_delta=0.0001)])"
      ],
      "execution_count": 61,
      "outputs": [
        {
          "output_type": "stream",
          "name": "stdout",
          "text": [
            "Epoch 1/5\n",
            "1391/1391 [==============================] - 1127s 808ms/step - loss: 0.5998 - accuracy: 0.8046 - val_loss: 0.3733 - val_accuracy: 0.8940\n",
            "Epoch 2/5\n",
            "1391/1391 [==============================] - 1101s 792ms/step - loss: 0.2578 - accuracy: 0.9281 - val_loss: 0.2796 - val_accuracy: 0.9222\n",
            "Epoch 3/5\n",
            "1391/1391 [==============================] - 1133s 814ms/step - loss: 0.1568 - accuracy: 0.9570 - val_loss: 0.2767 - val_accuracy: 0.9257\n",
            "Epoch 4/5\n",
            "1391/1391 [==============================] - 1124s 808ms/step - loss: 0.1065 - accuracy: 0.9705 - val_loss: 0.3018 - val_accuracy: 0.9206\n",
            "Epoch 5/5\n",
            "1391/1391 [==============================] - 1107s 796ms/step - loss: 0.0763 - accuracy: 0.9789 - val_loss: 0.3087 - val_accuracy: 0.9263\n"
          ]
        }
      ]
    },
    {
      "cell_type": "markdown",
      "metadata": {
        "id": "hj_Fmr_Z2yea"
      },
      "source": [
        "Print Loss and Accuracy"
      ]
    },
    {
      "cell_type": "code",
      "metadata": {
        "colab": {
          "base_uri": "https://localhost:8080/"
        },
        "id": "IAlA5y89wzMf",
        "outputId": "afe47086-0206-4233-a51c-58f40ae9128c"
      },
      "source": [
        "accr = model.evaluate(X_test,y_test)\n",
        "print('Test set\\n  Loss: {:0.3f}\\n  Accuracy: {:0.3f}'.format(accr[0],accr[1]))"
      ],
      "execution_count": 62,
      "outputs": [
        {
          "output_type": "stream",
          "name": "stdout",
          "text": [
            "3091/3091 [==============================] - 219s 71ms/step - loss: 0.3027 - accuracy: 0.9281\n",
            "Test set\n",
            "  Loss: 0.303\n",
            "  Accuracy: 0.928\n"
          ]
        }
      ]
    },
    {
      "cell_type": "markdown",
      "metadata": {
        "id": "WDpQy8gg24KC"
      },
      "source": [
        "Show the training and the validation losses"
      ]
    },
    {
      "cell_type": "code",
      "metadata": {
        "colab": {
          "base_uri": "https://localhost:8080/",
          "height": 281
        },
        "id": "NlKNgfVUx6y8",
        "outputId": "014cf05d-6042-49e6-e9a8-c1255e270afd"
      },
      "source": [
        "plt.title('Loss')\n",
        "plt.plot(history.history['loss'], label='train')\n",
        "plt.plot(history.history['val_loss'], label='test')\n",
        "plt.legend()\n",
        "plt.show();"
      ],
      "execution_count": 63,
      "outputs": [
        {
          "output_type": "display_data",
          "data": {
            "image/png": "[encoded data removed]",
            "text/plain": [
              "<Figure size 432x288 with 1 Axes>"
            ]
          },
          "metadata": {
            "needs_background": "light"
          }
        }
      ]
    },
    {
      "cell_type": "markdown",
      "metadata": {
        "id": "jDFYQu_s3BBK"
      },
      "source": [
        "Show the training and the validation accuracy"
      ]
    },
    {
      "cell_type": "code",
      "metadata": {
        "colab": {
          "base_uri": "https://localhost:8080/",
          "height": 281
        },
        "id": "xOLelN21x_wM",
        "outputId": "094be3c7-3b7e-4dd2-ae18-54a7f378a82b"
      },
      "source": [
        "plt.title('Accuracy')\n",
        "plt.plot(history.history['accuracy'], label='train')\n",
        "plt.plot(history.history['accuracy'], label='test')\n",
        "plt.legend()\n",
        "plt.show();"
      ],
      "execution_count": 73,
      "outputs": [
        {
          "output_type": "display_data",
          "data": {
            "image/png": "[encoded data removed]",
            "text/plain": [
              "<Figure size 432x288 with 1 Axes>"
            ]
          },
          "metadata": {
            "needs_background": "light"
          }
        }
      ]
    },
    {
      "cell_type": "markdown",
      "metadata": {
        "id": "XnxP9UUk3D_y"
      },
      "source": [
        "Test for a random text"
      ]
    },
    {
      "cell_type": "code",
      "metadata": {
        "colab": {
          "base_uri": "https://localhost:8080/"
        },
        "id": "HE-ADj5EzTQ1",
        "outputId": "fefd59cc-4e6b-44da-a71c-8dd39e55c24b"
      },
      "source": [
        "new_text = ['শফিক    তুহিনের    সুর    সংগীত    পরিচালনায়    চলচ্চিত্রের    গানে    কণ্ঠ    তাঁরই    ভাই    জাহাঙ্গীর    গতকাল    শুক্রবার    রাজধানীর    মোহাম্মদপুরের    স্টুডিওতে    গানটির    রেকর্ডিং    জাকির    হোসেন    রাজু    পরিচালিত    ছবিটির    নাম    মনের    পাইলাম    শফিক    তুহিন    গানের    ভাইয়া    ঢাকায়    আসেন    ভাইয়ার    কারণে    আমিও    একটা    সময়    নিজেকে    গানের    যুক্ত    ক্যারিয়ার    গড়তে    হতো    গানে    আজকে    সবকিছুই    ভাইয়ার    কারণেই    শফিক    তুহিন    ভাইয়া    সুর    সংগীত    পরিচালনায়    কাজ    একটা    এদিকে    শফিক    তুহিনের    ভাই    জাহাঙ্গীর    প্রথম    আলো    ডটকমকে    আসলে    গানের    জন্যই    ঢাকায়    আসা    আটটি    একক    গানের    অ্যালবাম    প্রকাশিত    গেয়েছি    মিশ্র    অ্যালবামে    ছোট    ভাইয়ের    সুর    সংগীত    পরিচালনায়    চলচ্চিত্রের    গানে    কণ্ঠ    দিলাম    টাইটেল    সংগীত    পুরো    বিষয়টি    বেশি    আনন্দের    পাশাপাশি    বেশি    আবেগও    কাজ    গানটিতে    কণ্ঠ    গাড়িতে    উঠেই    প্রথম    মাকে    ফোন    জানালাম    মিলিয়ে    আসলেই    অন্যরকম    অনুভূতি    এবারের    সিটিসেল    চ্যানেল    সংগীত    পুরস্কারে    শফিক    তুহিন    সেরা    গীতিকারের    পুরস্কার    অর্জন    একক    গানের    অ্যালবাম    পাগলামি    তুহিন    পুরস্কার    পান  ']\n",
        "seq = tokenizer.texts_to_sequences(new_text)\n",
        "padded = pad_sequences(seq, maxlen=MAX_SEQUENCE_LENGTH)\n",
        "pred = model.predict(padded)\n",
        "labels = ['sports','international','state','entertainment','economy','education','technology']\n",
        "print(pred, labels[np.argmax(pred)])"
      ],
      "execution_count": 72,
      "outputs": [
        {
          "output_type": "stream",
          "name": "stdout",
          "text": [
            "[[3.1437859e-04 2.4078233e-04 9.9337316e-01 2.9836197e-03 3.3749116e-04\n",
            "  2.4859849e-03 2.6462073e-04]] state\n"
          ]
        }
      ]
    }
  ]
}